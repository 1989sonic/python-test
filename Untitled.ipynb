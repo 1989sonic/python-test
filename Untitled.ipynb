{
 "cells": [
  {
   "cell_type": "code",
   "execution_count": 1,
   "id": "1d05808b-944e-4799-8990-5e0c5301681e",
   "metadata": {},
   "outputs": [],
   "source": [
    "import random\n",
    "import string\n",
    "\n",
    "# Generate a log type\n",
    "log_type = ['[Info]   ', '[Warning]', '[Error]  ']\n",
    "\n",
    "# Generate a string of random characters\n",
    "def generate_random_string(length):\n",
    "    chars = [char for char in string.printable if char not in string.whitespace]\n",
    "    result = random.choices(chars, k=length)\n",
    "    return ''.join(result)\n",
    "\n",
    "# Generate the Logfile\n",
    "log_list = [None] * 10000\n",
    "x=0\n",
    "while x < 10000:\n",
    "    # Generate a random time\n",
    "    random_time = str(f\"{random.randint(0, 23):02d}\")+\":\"+str(f\"{random.randint(0, 59):02d}\")+\":\"+str(f\"{random.randint(0, 59):02d}\")\n",
    "    # Create the log\n",
    "    typ = random.choice(log_type)\n",
    "    random_string = generate_random_string(random.randint(5, 100))\n",
    "    log_list[x] = [random_time, ' ' + typ + '- ' + random_string]\n",
    "    x = x + 1\n",
    "\n",
    "# Sort the log\n",
    "sorted_log_list = sorted(log_list, key=lambda t: t[0])\n",
    "\n",
    "# Print the log lines to a file\n",
    "with open('LOG_FILE.txt', mode ='w') as file:\n",
    "    for log_line in sorted_log_list:\n",
    "        file.write(''.join(log_line)+'\\n')"
   ]
  },
  {
   "cell_type": "code",
   "execution_count": null,
   "id": "ac6aa0e9-b23e-4c16-8488-f931fac12046",
   "metadata": {},
   "outputs": [],
   "source": []
  }
 ],
 "metadata": {
  "kernelspec": {
   "display_name": "Python [conda env:base] *",
   "language": "python",
   "name": "conda-base-py"
  },
  "language_info": {
   "codemirror_mode": {
    "name": "ipython",
    "version": 3
   },
   "file_extension": ".py",
   "mimetype": "text/x-python",
   "name": "python",
   "nbconvert_exporter": "python",
   "pygments_lexer": "ipython3",
   "version": "3.13.5"
  }
 },
 "nbformat": 4,
 "nbformat_minor": 5
}
